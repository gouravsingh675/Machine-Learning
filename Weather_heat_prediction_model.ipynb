{
  "nbformat": 4,
  "nbformat_minor": 0,
  "metadata": {
    "colab": {
      "name": "Copy of Gourav_ml_vortex",
      "provenance": [],
      "toc_visible": true
    },
    "kernelspec": {
      "name": "python3",
      "display_name": "Python 3"
    }
  },
  "cells": [
    {
      "cell_type": "code",
      "metadata": {
        "id": "tKBJ1pz_GEJQ"
      },
      "source": [
        "import pandas as pd\r\n",
        "import numpy as np\r\n",
        "import matplotlib.pyplot as plt\r\n",
        "from sklearn.linear_model import LinearRegression \r\n",
        "  \r\n",
        "df = pd.read_csv(\"TRAIN.csv\")\r\n",
        "df1=pd.read_csv(\"TEST.csv\")\r\n"
      ],
      "execution_count": 4,
      "outputs": []
    },
    {
      "cell_type": "markdown",
      "metadata": {
        "id": "uiV-U0f24u6m"
      },
      "source": [
        "#converting date and time object data type to pandas date time dataset frame to perform numerical operation on dataperforn"
      ]
    },
    {
      "cell_type": "code",
      "metadata": {
        "id": "3ITOHtae1vqz"
      },
      "source": [
        "df['Data'] = pd.to_datetime(df['Data'])\r\n",
        "df1['Data'] = pd.to_datetime(df['Data'])\r\n"
      ],
      "execution_count": 5,
      "outputs": []
    },
    {
      "cell_type": "code",
      "metadata": {
        "id": "O6NWMch32eyo"
      },
      "source": [
        "df['Time'] = pd.to_datetime(df['Time'])\r\n",
        "df['RiseTime'] = pd.to_datetime(df['RiseTime'])\r\n",
        "df['SetTime'] = pd.to_datetime(df['SetTime'])\r\n",
        "df1['Time'] = pd.to_datetime(df1['Time'])\r\n",
        "df1['RiseTime'] = pd.to_datetime(df1['RiseTime'])\r\n",
        "df1['SetTime'] = pd.to_datetime(df1['SetTime'])\r\n"
      ],
      "execution_count": 6,
      "outputs": []
    },
    {
      "cell_type": "code",
      "metadata": {
        "id": "c1zaQPuNkKjY"
      },
      "source": [
        "df['Data_year'] = df['Data'].dt.year\r\n",
        "df['Data_month'] = df['Data'].dt.month\r\n",
        "df['Data_day'] = df['Data'].dt.day\r\n",
        "df['Data_hour'] = df['Data'].dt.hour\r\n",
        "df['Data_minute']=df['Data'].dt.minute \r\n",
        "df['Time_hour'] = df['Time'].dt.hour\r\n",
        "df['Time_minute'] = df['Time'].dt.minute\r\n",
        "df['RiseTime_hour'] = df['RiseTime'].dt.hour\r\n",
        "df['RiseTime_minute'] = df['RiseTime'].dt.minute\r\n",
        "df['RiseTime_second']=df['SetTime'].dt.second\r\n",
        "df['SetTime_hour'] = df['SetTime'].dt.hour\r\n",
        "df['SetTime_minute'] = df['SetTime'].dt.minute\r\n",
        "df['SetTime_second']=df['SetTime'].dt.second\r\n",
        "#test set\r\n",
        "df1['Data_year'] = df1['Data'].dt.year\r\n",
        "df1['Data_month'] = df1['Data'].dt.month\r\n",
        "df1['Data_day'] = df1['Data'].dt.day\r\n",
        "df1['Data_hour'] = df1['Data'].dt.hour\r\n",
        "df1['Data_minute']=df1['Data'].dt.minute \r\n",
        "df1['Time_hour'] = df1['Time'].dt.hour\r\n",
        "df1['Time_minute'] = df['Time'].dt.minute\r\n",
        "df1['RiseTime_hour'] = df1['RiseTime'].dt.hour\r\n",
        "df1['RiseTime_minute'] = df1['RiseTime'].dt.minute\r\n",
        "df1['RiseTime_second']=df1['SetTime'].dt.second\r\n",
        "df1['SetTime_hour'] = df1['SetTime'].dt.hour\r\n",
        "df1['SetTime_minute'] = df1['SetTime'].dt.minute\r\n",
        "df1['SetTime_second']=df1['SetTime'].dt.second\r\n"
      ],
      "execution_count": 7,
      "outputs": []
    },
    {
      "cell_type": "code",
      "metadata": {
        "id": "1EyZ7GEIH5yR",
        "colab": {
          "base_uri": "https://localhost:8080/"
        },
        "outputId": "360e0a6f-8375-4550-8eca-259104577430"
      },
      "source": [
        "df_new=df.drop(['idx','Data', 'Time','SetTime','RiseTime'], axis=1)\r\n",
        "df_new1=df1.drop(['idx','Data', 'Time','SetTime','RiseTime'], axis=1).values\r\n",
        "print(df_new1)"
      ],
      "execution_count": 8,
      "outputs": [
        {
          "output_type": "stream",
          "text": [
            "[[1.48277525e+09 4.80000000e+01 3.04700000e+01 ... 1.70000000e+01\n",
            "  5.10000000e+01 0.00000000e+00]\n",
            " [1.48277494e+09 4.80000000e+01 3.04700000e+01 ... 1.70000000e+01\n",
            "  5.10000000e+01 0.00000000e+00]\n",
            " [1.48277465e+09 4.80000000e+01 3.04700000e+01 ... 1.70000000e+01\n",
            "  5.10000000e+01 0.00000000e+00]\n",
            " ...\n",
            " [1.48058700e+09 4.40000000e+01 3.04200000e+01 ... 1.70000000e+01\n",
            "  4.20000000e+01 0.00000000e+00]\n",
            " [1.48058670e+09 4.40000000e+01 3.04200000e+01 ... 1.70000000e+01\n",
            "  4.20000000e+01 0.00000000e+00]\n",
            " [1.48058640e+09 4.40000000e+01 3.04300000e+01 ... 1.70000000e+01\n",
            "  4.20000000e+01 0.00000000e+00]]\n"
          ],
          "name": "stdout"
        }
      ]
    },
    {
      "cell_type": "code",
      "metadata": {
        "colab": {
          "base_uri": "https://localhost:8080/"
        },
        "id": "lsZTEiMVIoKL",
        "outputId": "62544779-f225-4860-9570-4fb6f929d856"
      },
      "source": [
        "df_new.dtypes"
      ],
      "execution_count": 9,
      "outputs": [
        {
          "output_type": "execute_result",
          "data": {
            "text/plain": [
              "UNIXTime             int64\n",
              "Heat               float64\n",
              "Temperature          int64\n",
              "Pressure           float64\n",
              "Humidity             int64\n",
              "WindDegrees        float64\n",
              "WindSpeed          float64\n",
              "Data_year            int64\n",
              "Data_month           int64\n",
              "Data_day             int64\n",
              "Data_hour            int64\n",
              "Data_minute          int64\n",
              "Time_hour            int64\n",
              "Time_minute          int64\n",
              "RiseTime_hour        int64\n",
              "RiseTime_minute      int64\n",
              "RiseTime_second      int64\n",
              "SetTime_hour         int64\n",
              "SetTime_minute       int64\n",
              "SetTime_second       int64\n",
              "dtype: object"
            ]
          },
          "metadata": {
            "tags": []
          },
          "execution_count": 9
        }
      ]
    },
    {
      "cell_type": "code",
      "metadata": {
        "id": "4h7o8pXF9fJo"
      },
      "source": [
        "y=df_new[\"Heat\"].values.reshape(-1, 1)\r\n",
        "\r\n",
        "\r\n"
      ],
      "execution_count": 11,
      "outputs": []
    },
    {
      "cell_type": "code",
      "metadata": {
        "id": "CDKdkqcaWt4l"
      },
      "source": [
        "x=df_new.loc[:, df_new.columns != 'Heat'].values\r\n"
      ],
      "execution_count": 12,
      "outputs": []
    },
    {
      "cell_type": "markdown",
      "metadata": {
        "id": "-Omk9uL26Xh1"
      },
      "source": [
        "fitting a linear model to dataset to predict heat generated\r\n"
      ]
    },
    {
      "cell_type": "code",
      "metadata": {
        "colab": {
          "base_uri": "https://localhost:8080/"
        },
        "id": "ymWzayhnhlRl",
        "outputId": "d41e48cb-3df2-4a5c-a09d-da8b3bf6779a"
      },
      "source": [
        "reg = LinearRegression().fit(x, y)\r\n",
        "reg.score(x, y)"
      ],
      "execution_count": 13,
      "outputs": [
        {
          "output_type": "execute_result",
          "data": {
            "text/plain": [
              "0.6290092854370599"
            ]
          },
          "metadata": {
            "tags": []
          },
          "execution_count": 13
        }
      ]
    },
    {
      "cell_type": "code",
      "metadata": {
        "colab": {
          "base_uri": "https://localhost:8080/"
        },
        "id": "Gx9c7ZeHh5wu",
        "outputId": "a266f972-8e6f-4d4c-a39e-15bd9bd0697c"
      },
      "source": [
        "reg.coef_"
      ],
      "execution_count": 14,
      "outputs": [
        {
          "output_type": "execute_result",
          "data": {
            "text/plain": [
              "array([[ 4.25268390e-04,  4.45810638e+01, -4.31857692e+02,\n",
              "         6.29470185e-01, -2.26785009e-01,  4.73494091e+00,\n",
              "        -8.64019967e-12, -1.14424439e+03, -3.47213103e+01,\n",
              "        -8.41282599e-12, -1.47082346e-12, -9.03026090e+00,\n",
              "        -2.14080728e-03,  0.00000000e+00,  4.04339721e+00,\n",
              "         0.00000000e+00, -1.06583549e+02, -9.97149085e-01,\n",
              "         0.00000000e+00]])"
            ]
          },
          "metadata": {
            "tags": []
          },
          "execution_count": 14
        }
      ]
    },
    {
      "cell_type": "code",
      "metadata": {
        "colab": {
          "base_uri": "https://localhost:8080/"
        },
        "id": "gGEWOXtTiEXd",
        "outputId": "bd2f1382-73c3-4eb1-b0b1-2b5068430ba5"
      },
      "source": [
        "reg.intercept_"
      ],
      "execution_count": 15,
      "outputs": [
        {
          "output_type": "execute_result",
          "data": {
            "text/plain": [
              "array([-603071.12204091])"
            ]
          },
          "metadata": {
            "tags": []
          },
          "execution_count": 15
        }
      ]
    },
    {
      "cell_type": "code",
      "metadata": {
        "id": "qH4KIF-wimBu"
      },
      "source": [
        "prediction_final=reg.predict(df_new1)\r\n",
        "prediction=prediction_final.tolist()"
      ],
      "execution_count": 16,
      "outputs": []
    },
    {
      "cell_type": "code",
      "metadata": {
        "id": "FuCY57pl4Ro2"
      },
      "source": [
        "Heat = [item for sublist in prediction for item in sublist]"
      ],
      "execution_count": 17,
      "outputs": []
    },
    {
      "cell_type": "code",
      "metadata": {
        "id": "Efn0C-Uxy6k4"
      },
      "source": [
        "idx=list(range(len(Heat)))"
      ],
      "execution_count": 18,
      "outputs": []
    },
    {
      "cell_type": "markdown",
      "metadata": {
        "id": "QOd8av8U6KVv"
      },
      "source": [
        ""
      ]
    },
    {
      "cell_type": "code",
      "metadata": {
        "colab": {
          "base_uri": "https://localhost:8080/"
        },
        "id": "-MXvRUBr54BY",
        "outputId": "980d3fcc-3fe8-46ba-9ff6-a7d08d0bfc72"
      },
      "source": [
        "!pip install xlsxwriter"
      ],
      "execution_count": null,
      "outputs": [
        {
          "output_type": "stream",
          "text": [
            "Requirement already satisfied: xlsxwriter in /usr/local/lib/python3.7/dist-packages (1.3.7)\n"
          ],
          "name": "stdout"
        }
      ]
    },
    {
      "cell_type": "code",
      "metadata": {
        "id": "DVs9eJ2U6G8i"
      },
      "source": [
        "import xlsxwriter"
      ],
      "execution_count": null,
      "outputs": []
    },
    {
      "cell_type": "code",
      "metadata": {
        "id": "OSeBRqkx6k9u"
      },
      "source": [
        "workbook = xlsxwriter.Workbook('score.xlsx')\r\n",
        "outsheet= workbook.add_worksheet()\r\n",
        "outsheet.write(\"A1\",\"idx\")\r\n",
        "outsheet.write(\"B1\",\"Radiation\")\r\n",
        "for item in range(len(Heat)):\r\n",
        "  outsheet.write(item+1,0,idx[item])\r\n",
        "  outsheet.write(item+1,1,Heat[item])\r\n",
        "workbook.close()\r\n",
        "\r\n",
        "\r\n",
        "\r\n",
        "\r\n"
      ],
      "execution_count": null,
      "outputs": []
    }
  ]
}